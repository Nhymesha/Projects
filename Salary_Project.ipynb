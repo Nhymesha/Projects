{
 "cells": [
  {
   "cell_type": "code",
   "execution_count": 1,
   "id": "a0c0fdc0",
   "metadata": {},
   "outputs": [],
   "source": [
    "import pandas as pd"
   ]
  },
  {
   "cell_type": "code",
   "execution_count": 22,
   "id": "37cc34d2",
   "metadata": {},
   "outputs": [
    {
     "data": {
      "text/html": [
       "<div>\n",
       "<style scoped>\n",
       "    .dataframe tbody tr th:only-of-type {\n",
       "        vertical-align: middle;\n",
       "    }\n",
       "\n",
       "    .dataframe tbody tr th {\n",
       "        vertical-align: top;\n",
       "    }\n",
       "\n",
       "    .dataframe thead th {\n",
       "        text-align: right;\n",
       "    }\n",
       "</style>\n",
       "<table border=\"1\" class=\"dataframe\">\n",
       "  <thead>\n",
       "    <tr style=\"text-align: right;\">\n",
       "      <th></th>\n",
       "      <th>rank</th>\n",
       "      <th>discipline</th>\n",
       "      <th>yrs.since.phd</th>\n",
       "      <th>yrs.service</th>\n",
       "      <th>sex</th>\n",
       "      <th>salary</th>\n",
       "    </tr>\n",
       "  </thead>\n",
       "  <tbody>\n",
       "    <tr>\n",
       "      <th>0</th>\n",
       "      <td>Prof</td>\n",
       "      <td>B</td>\n",
       "      <td>19</td>\n",
       "      <td>18</td>\n",
       "      <td>Male</td>\n",
       "      <td>139750</td>\n",
       "    </tr>\n",
       "    <tr>\n",
       "      <th>1</th>\n",
       "      <td>Prof</td>\n",
       "      <td>B</td>\n",
       "      <td>20</td>\n",
       "      <td>16</td>\n",
       "      <td>Male</td>\n",
       "      <td>173200</td>\n",
       "    </tr>\n",
       "    <tr>\n",
       "      <th>2</th>\n",
       "      <td>AsstProf</td>\n",
       "      <td>B</td>\n",
       "      <td>4</td>\n",
       "      <td>3</td>\n",
       "      <td>Male</td>\n",
       "      <td>79750</td>\n",
       "    </tr>\n",
       "    <tr>\n",
       "      <th>3</th>\n",
       "      <td>Prof</td>\n",
       "      <td>B</td>\n",
       "      <td>45</td>\n",
       "      <td>39</td>\n",
       "      <td>Male</td>\n",
       "      <td>115000</td>\n",
       "    </tr>\n",
       "    <tr>\n",
       "      <th>4</th>\n",
       "      <td>Prof</td>\n",
       "      <td>B</td>\n",
       "      <td>40</td>\n",
       "      <td>41</td>\n",
       "      <td>Male</td>\n",
       "      <td>141500</td>\n",
       "    </tr>\n",
       "    <tr>\n",
       "      <th>...</th>\n",
       "      <td>...</td>\n",
       "      <td>...</td>\n",
       "      <td>...</td>\n",
       "      <td>...</td>\n",
       "      <td>...</td>\n",
       "      <td>...</td>\n",
       "    </tr>\n",
       "    <tr>\n",
       "      <th>392</th>\n",
       "      <td>Prof</td>\n",
       "      <td>A</td>\n",
       "      <td>33</td>\n",
       "      <td>30</td>\n",
       "      <td>Male</td>\n",
       "      <td>103106</td>\n",
       "    </tr>\n",
       "    <tr>\n",
       "      <th>393</th>\n",
       "      <td>Prof</td>\n",
       "      <td>A</td>\n",
       "      <td>31</td>\n",
       "      <td>19</td>\n",
       "      <td>Male</td>\n",
       "      <td>150564</td>\n",
       "    </tr>\n",
       "    <tr>\n",
       "      <th>394</th>\n",
       "      <td>Prof</td>\n",
       "      <td>A</td>\n",
       "      <td>42</td>\n",
       "      <td>25</td>\n",
       "      <td>Male</td>\n",
       "      <td>101738</td>\n",
       "    </tr>\n",
       "    <tr>\n",
       "      <th>395</th>\n",
       "      <td>Prof</td>\n",
       "      <td>A</td>\n",
       "      <td>25</td>\n",
       "      <td>15</td>\n",
       "      <td>Male</td>\n",
       "      <td>95329</td>\n",
       "    </tr>\n",
       "    <tr>\n",
       "      <th>396</th>\n",
       "      <td>AsstProf</td>\n",
       "      <td>A</td>\n",
       "      <td>8</td>\n",
       "      <td>4</td>\n",
       "      <td>Male</td>\n",
       "      <td>81035</td>\n",
       "    </tr>\n",
       "  </tbody>\n",
       "</table>\n",
       "<p>397 rows × 6 columns</p>\n",
       "</div>"
      ],
      "text/plain": [
       "         rank discipline  yrs.since.phd  yrs.service   sex  salary\n",
       "0        Prof          B             19           18  Male  139750\n",
       "1        Prof          B             20           16  Male  173200\n",
       "2    AsstProf          B              4            3  Male   79750\n",
       "3        Prof          B             45           39  Male  115000\n",
       "4        Prof          B             40           41  Male  141500\n",
       "..        ...        ...            ...          ...   ...     ...\n",
       "392      Prof          A             33           30  Male  103106\n",
       "393      Prof          A             31           19  Male  150564\n",
       "394      Prof          A             42           25  Male  101738\n",
       "395      Prof          A             25           15  Male   95329\n",
       "396  AsstProf          A              8            4  Male   81035\n",
       "\n",
       "[397 rows x 6 columns]"
      ]
     },
     "execution_count": 22,
     "metadata": {},
     "output_type": "execute_result"
    }
   ],
   "source": [
    "df=pd.read_csv(\"https://raw.githubusercontent.com/dsrscientist/dataset3/main/Salaries.csv\")\n",
    "df"
   ]
  },
  {
   "cell_type": "code",
   "execution_count": 3,
   "id": "765338a2",
   "metadata": {},
   "outputs": [
    {
     "data": {
      "text/html": [
       "<div>\n",
       "<style scoped>\n",
       "    .dataframe tbody tr th:only-of-type {\n",
       "        vertical-align: middle;\n",
       "    }\n",
       "\n",
       "    .dataframe tbody tr th {\n",
       "        vertical-align: top;\n",
       "    }\n",
       "\n",
       "    .dataframe thead th {\n",
       "        text-align: right;\n",
       "    }\n",
       "</style>\n",
       "<table border=\"1\" class=\"dataframe\">\n",
       "  <thead>\n",
       "    <tr style=\"text-align: right;\">\n",
       "      <th></th>\n",
       "      <th>rank</th>\n",
       "      <th>discipline</th>\n",
       "      <th>yrs.since.phd</th>\n",
       "      <th>yrs.service</th>\n",
       "      <th>sex</th>\n",
       "      <th>salary</th>\n",
       "    </tr>\n",
       "  </thead>\n",
       "  <tbody>\n",
       "    <tr>\n",
       "      <th>0</th>\n",
       "      <td>Prof</td>\n",
       "      <td>B</td>\n",
       "      <td>19</td>\n",
       "      <td>18</td>\n",
       "      <td>Male</td>\n",
       "      <td>139750</td>\n",
       "    </tr>\n",
       "    <tr>\n",
       "      <th>1</th>\n",
       "      <td>Prof</td>\n",
       "      <td>B</td>\n",
       "      <td>20</td>\n",
       "      <td>16</td>\n",
       "      <td>Male</td>\n",
       "      <td>173200</td>\n",
       "    </tr>\n",
       "    <tr>\n",
       "      <th>2</th>\n",
       "      <td>AsstProf</td>\n",
       "      <td>B</td>\n",
       "      <td>4</td>\n",
       "      <td>3</td>\n",
       "      <td>Male</td>\n",
       "      <td>79750</td>\n",
       "    </tr>\n",
       "    <tr>\n",
       "      <th>3</th>\n",
       "      <td>Prof</td>\n",
       "      <td>B</td>\n",
       "      <td>45</td>\n",
       "      <td>39</td>\n",
       "      <td>Male</td>\n",
       "      <td>115000</td>\n",
       "    </tr>\n",
       "    <tr>\n",
       "      <th>4</th>\n",
       "      <td>Prof</td>\n",
       "      <td>B</td>\n",
       "      <td>40</td>\n",
       "      <td>41</td>\n",
       "      <td>Male</td>\n",
       "      <td>141500</td>\n",
       "    </tr>\n",
       "  </tbody>\n",
       "</table>\n",
       "</div>"
      ],
      "text/plain": [
       "       rank discipline  yrs.since.phd  yrs.service   sex  salary\n",
       "0      Prof          B             19           18  Male  139750\n",
       "1      Prof          B             20           16  Male  173200\n",
       "2  AsstProf          B              4            3  Male   79750\n",
       "3      Prof          B             45           39  Male  115000\n",
       "4      Prof          B             40           41  Male  141500"
      ]
     },
     "execution_count": 3,
     "metadata": {},
     "output_type": "execute_result"
    }
   ],
   "source": [
    "df.head()"
   ]
  },
  {
   "cell_type": "code",
   "execution_count": 4,
   "id": "c4af6cd9",
   "metadata": {},
   "outputs": [
    {
     "data": {
      "text/html": [
       "<div>\n",
       "<style scoped>\n",
       "    .dataframe tbody tr th:only-of-type {\n",
       "        vertical-align: middle;\n",
       "    }\n",
       "\n",
       "    .dataframe tbody tr th {\n",
       "        vertical-align: top;\n",
       "    }\n",
       "\n",
       "    .dataframe thead th {\n",
       "        text-align: right;\n",
       "    }\n",
       "</style>\n",
       "<table border=\"1\" class=\"dataframe\">\n",
       "  <thead>\n",
       "    <tr style=\"text-align: right;\">\n",
       "      <th></th>\n",
       "      <th>rank</th>\n",
       "      <th>discipline</th>\n",
       "      <th>yrs.since.phd</th>\n",
       "      <th>yrs.service</th>\n",
       "      <th>sex</th>\n",
       "      <th>salary</th>\n",
       "    </tr>\n",
       "  </thead>\n",
       "  <tbody>\n",
       "    <tr>\n",
       "      <th>0</th>\n",
       "      <td>Prof</td>\n",
       "      <td>B</td>\n",
       "      <td>19</td>\n",
       "      <td>18</td>\n",
       "      <td>Male</td>\n",
       "      <td>139750</td>\n",
       "    </tr>\n",
       "    <tr>\n",
       "      <th>1</th>\n",
       "      <td>Prof</td>\n",
       "      <td>B</td>\n",
       "      <td>20</td>\n",
       "      <td>16</td>\n",
       "      <td>Male</td>\n",
       "      <td>173200</td>\n",
       "    </tr>\n",
       "    <tr>\n",
       "      <th>2</th>\n",
       "      <td>AsstProf</td>\n",
       "      <td>B</td>\n",
       "      <td>4</td>\n",
       "      <td>3</td>\n",
       "      <td>Male</td>\n",
       "      <td>79750</td>\n",
       "    </tr>\n",
       "    <tr>\n",
       "      <th>3</th>\n",
       "      <td>Prof</td>\n",
       "      <td>B</td>\n",
       "      <td>45</td>\n",
       "      <td>39</td>\n",
       "      <td>Male</td>\n",
       "      <td>115000</td>\n",
       "    </tr>\n",
       "    <tr>\n",
       "      <th>4</th>\n",
       "      <td>Prof</td>\n",
       "      <td>B</td>\n",
       "      <td>40</td>\n",
       "      <td>41</td>\n",
       "      <td>Male</td>\n",
       "      <td>141500</td>\n",
       "    </tr>\n",
       "    <tr>\n",
       "      <th>...</th>\n",
       "      <td>...</td>\n",
       "      <td>...</td>\n",
       "      <td>...</td>\n",
       "      <td>...</td>\n",
       "      <td>...</td>\n",
       "      <td>...</td>\n",
       "    </tr>\n",
       "    <tr>\n",
       "      <th>392</th>\n",
       "      <td>Prof</td>\n",
       "      <td>A</td>\n",
       "      <td>33</td>\n",
       "      <td>30</td>\n",
       "      <td>Male</td>\n",
       "      <td>103106</td>\n",
       "    </tr>\n",
       "    <tr>\n",
       "      <th>393</th>\n",
       "      <td>Prof</td>\n",
       "      <td>A</td>\n",
       "      <td>31</td>\n",
       "      <td>19</td>\n",
       "      <td>Male</td>\n",
       "      <td>150564</td>\n",
       "    </tr>\n",
       "    <tr>\n",
       "      <th>394</th>\n",
       "      <td>Prof</td>\n",
       "      <td>A</td>\n",
       "      <td>42</td>\n",
       "      <td>25</td>\n",
       "      <td>Male</td>\n",
       "      <td>101738</td>\n",
       "    </tr>\n",
       "    <tr>\n",
       "      <th>395</th>\n",
       "      <td>Prof</td>\n",
       "      <td>A</td>\n",
       "      <td>25</td>\n",
       "      <td>15</td>\n",
       "      <td>Male</td>\n",
       "      <td>95329</td>\n",
       "    </tr>\n",
       "    <tr>\n",
       "      <th>396</th>\n",
       "      <td>AsstProf</td>\n",
       "      <td>A</td>\n",
       "      <td>8</td>\n",
       "      <td>4</td>\n",
       "      <td>Male</td>\n",
       "      <td>81035</td>\n",
       "    </tr>\n",
       "  </tbody>\n",
       "</table>\n",
       "<p>397 rows × 6 columns</p>\n",
       "</div>"
      ],
      "text/plain": [
       "         rank discipline  yrs.since.phd  yrs.service   sex  salary\n",
       "0        Prof          B             19           18  Male  139750\n",
       "1        Prof          B             20           16  Male  173200\n",
       "2    AsstProf          B              4            3  Male   79750\n",
       "3        Prof          B             45           39  Male  115000\n",
       "4        Prof          B             40           41  Male  141500\n",
       "..        ...        ...            ...          ...   ...     ...\n",
       "392      Prof          A             33           30  Male  103106\n",
       "393      Prof          A             31           19  Male  150564\n",
       "394      Prof          A             42           25  Male  101738\n",
       "395      Prof          A             25           15  Male   95329\n",
       "396  AsstProf          A              8            4  Male   81035\n",
       "\n",
       "[397 rows x 6 columns]"
      ]
     },
     "execution_count": 4,
     "metadata": {},
     "output_type": "execute_result"
    }
   ],
   "source": [
    "pd.options.display.max_rows\n",
    "df"
   ]
  },
  {
   "cell_type": "code",
   "execution_count": 5,
   "id": "e16d53cc",
   "metadata": {},
   "outputs": [
    {
     "data": {
      "text/plain": [
       "Index(['rank', 'discipline', 'yrs.since.phd', 'yrs.service', 'sex', 'salary'], dtype='object')"
      ]
     },
     "execution_count": 5,
     "metadata": {},
     "output_type": "execute_result"
    }
   ],
   "source": [
    "df.columns"
   ]
  },
  {
   "cell_type": "code",
   "execution_count": 6,
   "id": "2d810241",
   "metadata": {},
   "outputs": [
    {
     "name": "stdout",
     "output_type": "stream",
     "text": [
      "<class 'pandas.core.frame.DataFrame'>\n",
      "RangeIndex: 397 entries, 0 to 396\n",
      "Data columns (total 6 columns):\n",
      " #   Column         Non-Null Count  Dtype \n",
      "---  ------         --------------  ----- \n",
      " 0   rank           397 non-null    object\n",
      " 1   discipline     397 non-null    object\n",
      " 2   yrs.since.phd  397 non-null    int64 \n",
      " 3   yrs.service    397 non-null    int64 \n",
      " 4   sex            397 non-null    object\n",
      " 5   salary         397 non-null    int64 \n",
      "dtypes: int64(3), object(3)\n",
      "memory usage: 18.7+ KB\n"
     ]
    }
   ],
   "source": [
    "df.info()"
   ]
  },
  {
   "cell_type": "code",
   "execution_count": 7,
   "id": "769bfbd6",
   "metadata": {},
   "outputs": [
    {
     "data": {
      "text/plain": [
       "rank             0\n",
       "discipline       0\n",
       "yrs.since.phd    0\n",
       "yrs.service      0\n",
       "sex              0\n",
       "salary           0\n",
       "dtype: int64"
      ]
     },
     "execution_count": 7,
     "metadata": {},
     "output_type": "execute_result"
    }
   ],
   "source": [
    "#Checking null values in dataframe\n",
    "df.isnull().sum()"
   ]
  },
  {
   "cell_type": "markdown",
   "id": "6003208c",
   "metadata": {},
   "source": [
    "#No null values found then we can proceed"
   ]
  },
  {
   "cell_type": "markdown",
   "id": "739d4724",
   "metadata": {},
   "source": [
    "#in the dataset the target is to predict the salary"
   ]
  },
  {
   "cell_type": "code",
   "execution_count": 8,
   "id": "bb34b027",
   "metadata": {},
   "outputs": [
    {
     "data": {
      "text/plain": [
       "rank             object\n",
       "discipline       object\n",
       "yrs.since.phd     int64\n",
       "yrs.service       int64\n",
       "sex              object\n",
       "salary            int64\n",
       "dtype: object"
      ]
     },
     "execution_count": 8,
     "metadata": {},
     "output_type": "execute_result"
    }
   ],
   "source": [
    "df.dtypes"
   ]
  },
  {
   "cell_type": "code",
   "execution_count": 9,
   "id": "8459d855",
   "metadata": {},
   "outputs": [
    {
     "data": {
      "text/html": [
       "<div>\n",
       "<style scoped>\n",
       "    .dataframe tbody tr th:only-of-type {\n",
       "        vertical-align: middle;\n",
       "    }\n",
       "\n",
       "    .dataframe tbody tr th {\n",
       "        vertical-align: top;\n",
       "    }\n",
       "\n",
       "    .dataframe thead th {\n",
       "        text-align: right;\n",
       "    }\n",
       "</style>\n",
       "<table border=\"1\" class=\"dataframe\">\n",
       "  <thead>\n",
       "    <tr style=\"text-align: right;\">\n",
       "      <th></th>\n",
       "      <th>rank</th>\n",
       "      <th>discipline</th>\n",
       "      <th>yrs.since.phd</th>\n",
       "      <th>yrs.service</th>\n",
       "      <th>sex</th>\n",
       "      <th>salary</th>\n",
       "    </tr>\n",
       "  </thead>\n",
       "  <tbody>\n",
       "  </tbody>\n",
       "</table>\n",
       "</div>"
      ],
      "text/plain": [
       "Empty DataFrame\n",
       "Columns: [rank, discipline, yrs.since.phd, yrs.service, sex, salary]\n",
       "Index: []"
      ]
     },
     "execution_count": 9,
     "metadata": {},
     "output_type": "execute_result"
    }
   ],
   "source": [
    "#To check any widespaces present in target column\n",
    "df.loc[df[\"salary\"]== \" \"]"
   ]
  },
  {
   "cell_type": "code",
   "execution_count": 10,
   "id": "c733ea51",
   "metadata": {},
   "outputs": [],
   "source": [
    "#no widespaces found"
   ]
  },
  {
   "cell_type": "markdown",
   "id": "3b91941c",
   "metadata": {},
   "source": [
    "categorical data-\n",
    "#rank, discipline, set\n",
    "& continious data-\n",
    "#yrs.since.phd, yrs.service, salary"
   ]
  },
  {
   "cell_type": "code",
   "execution_count": 23,
   "id": "aaeb7a17",
   "metadata": {},
   "outputs": [
    {
     "data": {
      "text/html": [
       "<div>\n",
       "<style scoped>\n",
       "    .dataframe tbody tr th:only-of-type {\n",
       "        vertical-align: middle;\n",
       "    }\n",
       "\n",
       "    .dataframe tbody tr th {\n",
       "        vertical-align: top;\n",
       "    }\n",
       "\n",
       "    .dataframe thead th {\n",
       "        text-align: right;\n",
       "    }\n",
       "</style>\n",
       "<table border=\"1\" class=\"dataframe\">\n",
       "  <thead>\n",
       "    <tr style=\"text-align: right;\">\n",
       "      <th></th>\n",
       "      <th>rank</th>\n",
       "      <th>discipline</th>\n",
       "      <th>sex</th>\n",
       "    </tr>\n",
       "  </thead>\n",
       "  <tbody>\n",
       "    <tr>\n",
       "      <th>0</th>\n",
       "      <td>Prof</td>\n",
       "      <td>B</td>\n",
       "      <td>Male</td>\n",
       "    </tr>\n",
       "    <tr>\n",
       "      <th>1</th>\n",
       "      <td>Prof</td>\n",
       "      <td>B</td>\n",
       "      <td>Male</td>\n",
       "    </tr>\n",
       "    <tr>\n",
       "      <th>2</th>\n",
       "      <td>AsstProf</td>\n",
       "      <td>B</td>\n",
       "      <td>Male</td>\n",
       "    </tr>\n",
       "    <tr>\n",
       "      <th>3</th>\n",
       "      <td>Prof</td>\n",
       "      <td>B</td>\n",
       "      <td>Male</td>\n",
       "    </tr>\n",
       "    <tr>\n",
       "      <th>4</th>\n",
       "      <td>Prof</td>\n",
       "      <td>B</td>\n",
       "      <td>Male</td>\n",
       "    </tr>\n",
       "    <tr>\n",
       "      <th>...</th>\n",
       "      <td>...</td>\n",
       "      <td>...</td>\n",
       "      <td>...</td>\n",
       "    </tr>\n",
       "    <tr>\n",
       "      <th>392</th>\n",
       "      <td>Prof</td>\n",
       "      <td>A</td>\n",
       "      <td>Male</td>\n",
       "    </tr>\n",
       "    <tr>\n",
       "      <th>393</th>\n",
       "      <td>Prof</td>\n",
       "      <td>A</td>\n",
       "      <td>Male</td>\n",
       "    </tr>\n",
       "    <tr>\n",
       "      <th>394</th>\n",
       "      <td>Prof</td>\n",
       "      <td>A</td>\n",
       "      <td>Male</td>\n",
       "    </tr>\n",
       "    <tr>\n",
       "      <th>395</th>\n",
       "      <td>Prof</td>\n",
       "      <td>A</td>\n",
       "      <td>Male</td>\n",
       "    </tr>\n",
       "    <tr>\n",
       "      <th>396</th>\n",
       "      <td>AsstProf</td>\n",
       "      <td>A</td>\n",
       "      <td>Male</td>\n",
       "    </tr>\n",
       "  </tbody>\n",
       "</table>\n",
       "<p>397 rows × 3 columns</p>\n",
       "</div>"
      ],
      "text/plain": [
       "         rank discipline   sex\n",
       "0        Prof          B  Male\n",
       "1        Prof          B  Male\n",
       "2    AsstProf          B  Male\n",
       "3        Prof          B  Male\n",
       "4        Prof          B  Male\n",
       "..        ...        ...   ...\n",
       "392      Prof          A  Male\n",
       "393      Prof          A  Male\n",
       "394      Prof          A  Male\n",
       "395      Prof          A  Male\n",
       "396  AsstProf          A  Male\n",
       "\n",
       "[397 rows x 3 columns]"
      ]
     },
     "execution_count": 23,
     "metadata": {},
     "output_type": "execute_result"
    }
   ],
   "source": [
    "#Making data frame for categorical data\n",
    "df_categorical=df[[\"rank\", \"discipline\", \"sex\"]].copy()\n",
    "df_categorical"
   ]
  },
  {
   "cell_type": "code",
   "execution_count": 24,
   "id": "1e380d26",
   "metadata": {},
   "outputs": [
    {
     "data": {
      "text/plain": [
       "Index(['rank', 'discipline', 'sex'], dtype='object')"
      ]
     },
     "execution_count": 24,
     "metadata": {},
     "output_type": "execute_result"
    }
   ],
   "source": [
    "df_categorical.columns"
   ]
  },
  {
   "cell_type": "markdown",
   "id": "732616ce",
   "metadata": {},
   "source": [
    "#visualization of data"
   ]
  },
  {
   "cell_type": "code",
   "execution_count": 13,
   "id": "b7ba3937",
   "metadata": {},
   "outputs": [],
   "source": [
    "import seaborn as sns"
   ]
  },
  {
   "cell_type": "code",
   "execution_count": 25,
   "id": "5d6d7f45",
   "metadata": {},
   "outputs": [
    {
     "name": "stdout",
     "output_type": "stream",
     "text": [
      "Prof         266\n",
      "AsstProf      67\n",
      "AssocProf     64\n",
      "Name: rank, dtype: int64\n"
     ]
    },
    {
     "data": {
      "image/png": "[encoded data removed]",
      "text/plain": [
       "<Figure size 432x288 with 1 Axes>"
      ]
     },
     "metadata": {
      "needs_background": "light"
     },
     "output_type": "display_data"
    }
   ],
   "source": [
    "sns.countplot(x=\"rank\", data=df)\n",
    "print(df_categorical[\"rank\"].value_counts())"
   ]
  },
  {
   "cell_type": "code",
   "execution_count": 15,
   "id": "3dc573e6",
   "metadata": {},
   "outputs": [
    {
     "name": "stdout",
     "output_type": "stream",
     "text": [
      "B    216\n",
      "A    181\n",
      "Name: discipline, dtype: int64\n"
     ]
    },
    {
     "data": {
      "image/png": "[encoded data removed]",
      "text/plain": [
       "<Figure size 432x288 with 1 Axes>"
      ]
     },
     "metadata": {
      "needs_background": "light"
     },
     "output_type": "display_data"
    }
   ],
   "source": [
    "sns.countplot(x=\"discipline\", data=df)\n",
    "print(df_categorical[\"discipline\"].value_counts())"
   ]
  },
  {
   "cell_type": "code",
   "execution_count": 16,
   "id": "1f481e4a",
   "metadata": {},
   "outputs": [
    {
     "name": "stdout",
     "output_type": "stream",
     "text": [
      "Male      358\n",
      "Female     39\n",
      "Name: sex, dtype: int64\n"
     ]
    },
    {
     "data": {
      "image/png": "[encoded data removed]",
      "text/plain": [
       "<Figure size 432x288 with 1 Axes>"
      ]
     },
     "metadata": {
      "needs_background": "light"
     },
     "output_type": "display_data"
    }
   ],
   "source": [
    "sns.countplot(x=\"sex\", data=df)\n",
    "print(df_categorical[\"sex\"].value_counts())"
   ]
  },
  {
   "cell_type": "code",
   "execution_count": 17,
   "id": "e06c45f3",
   "metadata": {},
   "outputs": [],
   "source": [
    "df_continuousdata=df[[\"yrs.since.phd\", \"yrs.service\", \"salary\"]].copy()\n"
   ]
  },
  {
   "cell_type": "code",
   "execution_count": 18,
   "id": "e16962da",
   "metadata": {},
   "outputs": [
    {
     "data": {
      "text/plain": [
       "<seaborn.axisgrid.FacetGrid at 0x1c73cb49490>"
      ]
     },
     "execution_count": 18,
     "metadata": {},
     "output_type": "execute_result"
    },
    {
     "data": {
      "image/png": "[encoded data removed]",
      "text/plain": [
       "<Figure size 360x360 with 1 Axes>"
      ]
     },
     "metadata": {
      "needs_background": "light"
     },
     "output_type": "display_data"
    }
   ],
   "source": [
    "sns.displot(df_continuousdata[\"yrs.since.phd\"], kde=True)"
   ]
  },
  {
   "cell_type": "code",
   "execution_count": 19,
   "id": "aedb67e8",
   "metadata": {},
   "outputs": [
    {
     "data": {
      "text/plain": [
       "<seaborn.axisgrid.FacetGrid at 0x1c73caead30>"
      ]
     },
     "execution_count": 19,
     "metadata": {},
     "output_type": "execute_result"
    },
    {
     "data": {
      "image/png": "[encoded data removed]",
      "text/plain": [
       "<Figure size 360x360 with 1 Axes>"
      ]
     },
     "metadata": {
      "needs_background": "light"
     },
     "output_type": "display_data"
    }
   ],
   "source": [
    "sns.displot(df_continuousdata[\"yrs.service\"], kde=True)"
   ]
  },
  {
   "cell_type": "code",
   "execution_count": 20,
   "id": "cccbeb24",
   "metadata": {},
   "outputs": [
    {
     "data": {
      "text/plain": [
       "<seaborn.axisgrid.FacetGrid at 0x1c73d0660d0>"
      ]
     },
     "execution_count": 20,
     "metadata": {},
     "output_type": "execute_result"
    },
    {
     "data": {
      "image/png": "[encoded data removed]",
      "text/plain": [
       "<Figure size 360x360 with 1 Axes>"
      ]
     },
     "metadata": {
      "needs_background": "light"
     },
     "output_type": "display_data"
    }
   ],
   "source": [
    "sns.displot(df_continuousdata[\"salary\"], kde=True)"
   ]
  },
  {
   "cell_type": "code",
   "execution_count": 21,
   "id": "59a8e7cd",
   "metadata": {},
   "outputs": [
    {
     "ename": "SyntaxError",
     "evalue": "invalid syntax (1489530661.py, line 1)",
     "output_type": "error",
     "traceback": [
      "\u001b[1;36m  Input \u001b[1;32mIn [21]\u001b[1;36m\u001b[0m\n\u001b[1;33m    The dataset has a string values. we will use the encoding techniques to convert string dara to numerical one\u001b[0m\n\u001b[1;37m        ^\u001b[0m\n\u001b[1;31mSyntaxError\u001b[0m\u001b[1;31m:\u001b[0m invalid syntax\n"
     ]
    }
   ],
   "source": [
    "The dataset has a string values. we will use the encoding techniques to convert string dara to numerical one"
   ]
  },
  {
   "cell_type": "code",
   "execution_count": null,
   "id": "19a3defe",
   "metadata": {},
   "outputs": [],
   "source": [
    "df"
   ]
  },
  {
   "cell_type": "code",
   "execution_count": 26,
   "id": "4129cd16",
   "metadata": {},
   "outputs": [
    {
     "data": {
      "text/html": [
       "<div>\n",
       "<style scoped>\n",
       "    .dataframe tbody tr th:only-of-type {\n",
       "        vertical-align: middle;\n",
       "    }\n",
       "\n",
       "    .dataframe tbody tr th {\n",
       "        vertical-align: top;\n",
       "    }\n",
       "\n",
       "    .dataframe thead th {\n",
       "        text-align: right;\n",
       "    }\n",
       "</style>\n",
       "<table border=\"1\" class=\"dataframe\">\n",
       "  <thead>\n",
       "    <tr style=\"text-align: right;\">\n",
       "      <th></th>\n",
       "      <th>rank</th>\n",
       "      <th>discipline</th>\n",
       "      <th>sex</th>\n",
       "    </tr>\n",
       "  </thead>\n",
       "  <tbody>\n",
       "    <tr>\n",
       "      <th>0</th>\n",
       "      <td>Prof</td>\n",
       "      <td>B</td>\n",
       "      <td>Male</td>\n",
       "    </tr>\n",
       "    <tr>\n",
       "      <th>1</th>\n",
       "      <td>Prof</td>\n",
       "      <td>B</td>\n",
       "      <td>Male</td>\n",
       "    </tr>\n",
       "    <tr>\n",
       "      <th>2</th>\n",
       "      <td>AsstProf</td>\n",
       "      <td>B</td>\n",
       "      <td>Male</td>\n",
       "    </tr>\n",
       "    <tr>\n",
       "      <th>3</th>\n",
       "      <td>Prof</td>\n",
       "      <td>B</td>\n",
       "      <td>Male</td>\n",
       "    </tr>\n",
       "    <tr>\n",
       "      <th>4</th>\n",
       "      <td>Prof</td>\n",
       "      <td>B</td>\n",
       "      <td>Male</td>\n",
       "    </tr>\n",
       "    <tr>\n",
       "      <th>...</th>\n",
       "      <td>...</td>\n",
       "      <td>...</td>\n",
       "      <td>...</td>\n",
       "    </tr>\n",
       "    <tr>\n",
       "      <th>392</th>\n",
       "      <td>Prof</td>\n",
       "      <td>A</td>\n",
       "      <td>Male</td>\n",
       "    </tr>\n",
       "    <tr>\n",
       "      <th>393</th>\n",
       "      <td>Prof</td>\n",
       "      <td>A</td>\n",
       "      <td>Male</td>\n",
       "    </tr>\n",
       "    <tr>\n",
       "      <th>394</th>\n",
       "      <td>Prof</td>\n",
       "      <td>A</td>\n",
       "      <td>Male</td>\n",
       "    </tr>\n",
       "    <tr>\n",
       "      <th>395</th>\n",
       "      <td>Prof</td>\n",
       "      <td>A</td>\n",
       "      <td>Male</td>\n",
       "    </tr>\n",
       "    <tr>\n",
       "      <th>396</th>\n",
       "      <td>AsstProf</td>\n",
       "      <td>A</td>\n",
       "      <td>Male</td>\n",
       "    </tr>\n",
       "  </tbody>\n",
       "</table>\n",
       "<p>397 rows × 3 columns</p>\n",
       "</div>"
      ],
      "text/plain": [
       "         rank discipline   sex\n",
       "0        Prof          B  Male\n",
       "1        Prof          B  Male\n",
       "2    AsstProf          B  Male\n",
       "3        Prof          B  Male\n",
       "4        Prof          B  Male\n",
       "..        ...        ...   ...\n",
       "392      Prof          A  Male\n",
       "393      Prof          A  Male\n",
       "394      Prof          A  Male\n",
       "395      Prof          A  Male\n",
       "396  AsstProf          A  Male\n",
       "\n",
       "[397 rows x 3 columns]"
      ]
     },
     "execution_count": 26,
     "metadata": {},
     "output_type": "execute_result"
    }
   ],
   "source": [
    "Obj_df=df.select_dtypes(include=['object'])\n",
    "Obj_df"
   ]
  },
  {
   "cell_type": "markdown",
   "id": "f96994ae",
   "metadata": {},
   "source": [
    "Encoding of DataFrame:"
   ]
  },
  {
   "cell_type": "code",
   "execution_count": 27,
   "id": "918bcd15",
   "metadata": {},
   "outputs": [],
   "source": [
    "from sklearn.preprocessing import OrdinalEncoder\n",
    "enc=OrdinalEncoder()\n"
   ]
  },
  {
   "cell_type": "code",
   "execution_count": 28,
   "id": "95556da9",
   "metadata": {},
   "outputs": [],
   "source": [
    "for string in df.columns:\n",
    "    if df[string].dtypes==\"object\":\n",
    "        df[string]=enc.fit_transform(df[string].values.reshape(-1,1))\n"
   ]
  },
  {
   "cell_type": "code",
   "execution_count": 29,
   "id": "24a8aa97",
   "metadata": {},
   "outputs": [
    {
     "data": {
      "text/html": [
       "<div>\n",
       "<style scoped>\n",
       "    .dataframe tbody tr th:only-of-type {\n",
       "        vertical-align: middle;\n",
       "    }\n",
       "\n",
       "    .dataframe tbody tr th {\n",
       "        vertical-align: top;\n",
       "    }\n",
       "\n",
       "    .dataframe thead th {\n",
       "        text-align: right;\n",
       "    }\n",
       "</style>\n",
       "<table border=\"1\" class=\"dataframe\">\n",
       "  <thead>\n",
       "    <tr style=\"text-align: right;\">\n",
       "      <th></th>\n",
       "      <th>rank</th>\n",
       "      <th>discipline</th>\n",
       "      <th>yrs.since.phd</th>\n",
       "      <th>yrs.service</th>\n",
       "      <th>sex</th>\n",
       "      <th>salary</th>\n",
       "    </tr>\n",
       "  </thead>\n",
       "  <tbody>\n",
       "    <tr>\n",
       "      <th>0</th>\n",
       "      <td>2.0</td>\n",
       "      <td>1.0</td>\n",
       "      <td>19</td>\n",
       "      <td>18</td>\n",
       "      <td>1.0</td>\n",
       "      <td>139750</td>\n",
       "    </tr>\n",
       "    <tr>\n",
       "      <th>1</th>\n",
       "      <td>2.0</td>\n",
       "      <td>1.0</td>\n",
       "      <td>20</td>\n",
       "      <td>16</td>\n",
       "      <td>1.0</td>\n",
       "      <td>173200</td>\n",
       "    </tr>\n",
       "    <tr>\n",
       "      <th>2</th>\n",
       "      <td>1.0</td>\n",
       "      <td>1.0</td>\n",
       "      <td>4</td>\n",
       "      <td>3</td>\n",
       "      <td>1.0</td>\n",
       "      <td>79750</td>\n",
       "    </tr>\n",
       "    <tr>\n",
       "      <th>3</th>\n",
       "      <td>2.0</td>\n",
       "      <td>1.0</td>\n",
       "      <td>45</td>\n",
       "      <td>39</td>\n",
       "      <td>1.0</td>\n",
       "      <td>115000</td>\n",
       "    </tr>\n",
       "    <tr>\n",
       "      <th>4</th>\n",
       "      <td>2.0</td>\n",
       "      <td>1.0</td>\n",
       "      <td>40</td>\n",
       "      <td>41</td>\n",
       "      <td>1.0</td>\n",
       "      <td>141500</td>\n",
       "    </tr>\n",
       "    <tr>\n",
       "      <th>...</th>\n",
       "      <td>...</td>\n",
       "      <td>...</td>\n",
       "      <td>...</td>\n",
       "      <td>...</td>\n",
       "      <td>...</td>\n",
       "      <td>...</td>\n",
       "    </tr>\n",
       "    <tr>\n",
       "      <th>392</th>\n",
       "      <td>2.0</td>\n",
       "      <td>0.0</td>\n",
       "      <td>33</td>\n",
       "      <td>30</td>\n",
       "      <td>1.0</td>\n",
       "      <td>103106</td>\n",
       "    </tr>\n",
       "    <tr>\n",
       "      <th>393</th>\n",
       "      <td>2.0</td>\n",
       "      <td>0.0</td>\n",
       "      <td>31</td>\n",
       "      <td>19</td>\n",
       "      <td>1.0</td>\n",
       "      <td>150564</td>\n",
       "    </tr>\n",
       "    <tr>\n",
       "      <th>394</th>\n",
       "      <td>2.0</td>\n",
       "      <td>0.0</td>\n",
       "      <td>42</td>\n",
       "      <td>25</td>\n",
       "      <td>1.0</td>\n",
       "      <td>101738</td>\n",
       "    </tr>\n",
       "    <tr>\n",
       "      <th>395</th>\n",
       "      <td>2.0</td>\n",
       "      <td>0.0</td>\n",
       "      <td>25</td>\n",
       "      <td>15</td>\n",
       "      <td>1.0</td>\n",
       "      <td>95329</td>\n",
       "    </tr>\n",
       "    <tr>\n",
       "      <th>396</th>\n",
       "      <td>1.0</td>\n",
       "      <td>0.0</td>\n",
       "      <td>8</td>\n",
       "      <td>4</td>\n",
       "      <td>1.0</td>\n",
       "      <td>81035</td>\n",
       "    </tr>\n",
       "  </tbody>\n",
       "</table>\n",
       "<p>397 rows × 6 columns</p>\n",
       "</div>"
      ],
      "text/plain": [
       "     rank  discipline  yrs.since.phd  yrs.service  sex  salary\n",
       "0     2.0         1.0             19           18  1.0  139750\n",
       "1     2.0         1.0             20           16  1.0  173200\n",
       "2     1.0         1.0              4            3  1.0   79750\n",
       "3     2.0         1.0             45           39  1.0  115000\n",
       "4     2.0         1.0             40           41  1.0  141500\n",
       "..    ...         ...            ...          ...  ...     ...\n",
       "392   2.0         0.0             33           30  1.0  103106\n",
       "393   2.0         0.0             31           19  1.0  150564\n",
       "394   2.0         0.0             42           25  1.0  101738\n",
       "395   2.0         0.0             25           15  1.0   95329\n",
       "396   1.0         0.0              8            4  1.0   81035\n",
       "\n",
       "[397 rows x 6 columns]"
      ]
     },
     "execution_count": 29,
     "metadata": {},
     "output_type": "execute_result"
    }
   ],
   "source": [
    "df"
   ]
  },
  {
   "cell_type": "code",
   "execution_count": 30,
   "id": "df66f19f",
   "metadata": {},
   "outputs": [
    {
     "data": {
      "text/plain": [
       "rank             float64\n",
       "discipline       float64\n",
       "yrs.since.phd      int64\n",
       "yrs.service        int64\n",
       "sex              float64\n",
       "salary             int64\n",
       "dtype: object"
      ]
     },
     "execution_count": 30,
     "metadata": {},
     "output_type": "execute_result"
    }
   ],
   "source": [
    "df.dtypes"
   ]
  },
  {
   "cell_type": "code",
   "execution_count": null,
   "id": "10670cba",
   "metadata": {},
   "outputs": [],
   "source": [
    "#Describe the dataset\n",
    "df.describe()\n"
   ]
  },
  {
   "cell_type": "code",
   "execution_count": null,
   "id": "149dca18",
   "metadata": {},
   "outputs": [],
   "source": [
    "#no of columns are very low so no need to perform heatmap"
   ]
  },
  {
   "cell_type": "markdown",
   "id": "a575119b",
   "metadata": {},
   "source": [
    "correlation of columns eith target variable:"
   ]
  },
  {
   "cell_type": "code",
   "execution_count": 32,
   "id": "dd900229",
   "metadata": {},
   "outputs": [
    {
     "data": {
      "text/html": [
       "<div>\n",
       "<style scoped>\n",
       "    .dataframe tbody tr th:only-of-type {\n",
       "        vertical-align: middle;\n",
       "    }\n",
       "\n",
       "    .dataframe tbody tr th {\n",
       "        vertical-align: top;\n",
       "    }\n",
       "\n",
       "    .dataframe thead th {\n",
       "        text-align: right;\n",
       "    }\n",
       "</style>\n",
       "<table border=\"1\" class=\"dataframe\">\n",
       "  <thead>\n",
       "    <tr style=\"text-align: right;\">\n",
       "      <th></th>\n",
       "      <th>rank</th>\n",
       "      <th>discipline</th>\n",
       "      <th>yrs.since.phd</th>\n",
       "      <th>yrs.service</th>\n",
       "      <th>sex</th>\n",
       "      <th>salary</th>\n",
       "    </tr>\n",
       "  </thead>\n",
       "  <tbody>\n",
       "    <tr>\n",
       "      <th>rank</th>\n",
       "      <td>1.000000</td>\n",
       "      <td>-0.086266</td>\n",
       "      <td>0.525500</td>\n",
       "      <td>0.447499</td>\n",
       "      <td>0.132492</td>\n",
       "      <td>0.522207</td>\n",
       "    </tr>\n",
       "    <tr>\n",
       "      <th>discipline</th>\n",
       "      <td>-0.086266</td>\n",
       "      <td>1.000000</td>\n",
       "      <td>-0.218087</td>\n",
       "      <td>-0.164599</td>\n",
       "      <td>0.003724</td>\n",
       "      <td>0.156084</td>\n",
       "    </tr>\n",
       "    <tr>\n",
       "      <th>yrs.since.phd</th>\n",
       "      <td>0.525500</td>\n",
       "      <td>-0.218087</td>\n",
       "      <td>1.000000</td>\n",
       "      <td>0.909649</td>\n",
       "      <td>0.148788</td>\n",
       "      <td>0.419231</td>\n",
       "    </tr>\n",
       "    <tr>\n",
       "      <th>yrs.service</th>\n",
       "      <td>0.447499</td>\n",
       "      <td>-0.164599</td>\n",
       "      <td>0.909649</td>\n",
       "      <td>1.000000</td>\n",
       "      <td>0.153740</td>\n",
       "      <td>0.334745</td>\n",
       "    </tr>\n",
       "    <tr>\n",
       "      <th>sex</th>\n",
       "      <td>0.132492</td>\n",
       "      <td>0.003724</td>\n",
       "      <td>0.148788</td>\n",
       "      <td>0.153740</td>\n",
       "      <td>1.000000</td>\n",
       "      <td>0.138610</td>\n",
       "    </tr>\n",
       "    <tr>\n",
       "      <th>salary</th>\n",
       "      <td>0.522207</td>\n",
       "      <td>0.156084</td>\n",
       "      <td>0.419231</td>\n",
       "      <td>0.334745</td>\n",
       "      <td>0.138610</td>\n",
       "      <td>1.000000</td>\n",
       "    </tr>\n",
       "  </tbody>\n",
       "</table>\n",
       "</div>"
      ],
      "text/plain": [
       "                   rank  discipline  yrs.since.phd  yrs.service       sex  \\\n",
       "rank           1.000000   -0.086266       0.525500     0.447499  0.132492   \n",
       "discipline    -0.086266    1.000000      -0.218087    -0.164599  0.003724   \n",
       "yrs.since.phd  0.525500   -0.218087       1.000000     0.909649  0.148788   \n",
       "yrs.service    0.447499   -0.164599       0.909649     1.000000  0.153740   \n",
       "sex            0.132492    0.003724       0.148788     0.153740  1.000000   \n",
       "salary         0.522207    0.156084       0.419231     0.334745  0.138610   \n",
       "\n",
       "                 salary  \n",
       "rank           0.522207  \n",
       "discipline     0.156084  \n",
       "yrs.since.phd  0.419231  \n",
       "yrs.service    0.334745  \n",
       "sex            0.138610  \n",
       "salary         1.000000  "
      ]
     },
     "execution_count": 32,
     "metadata": {},
     "output_type": "execute_result"
    }
   ],
   "source": [
    "df.corr()"
   ]
  },
  {
   "cell_type": "code",
   "execution_count": 31,
   "id": "d51114e2",
   "metadata": {},
   "outputs": [
    {
     "data": {
      "text/plain": [
       "sex              0.138610\n",
       "discipline       0.156084\n",
       "yrs.service      0.334745\n",
       "yrs.since.phd    0.419231\n",
       "rank             0.522207\n",
       "salary           1.000000\n",
       "Name: salary, dtype: float64"
      ]
     },
     "execution_count": 31,
     "metadata": {},
     "output_type": "execute_result"
    }
   ],
   "source": [
    "df.corr()[\"salary\"].sort_values()"
   ]
  },
  {
   "cell_type": "markdown",
   "id": "6bab6566",
   "metadata": {},
   "source": [
    "#sex column has a least corelation with target column"
   ]
  },
  {
   "cell_type": "code",
   "execution_count": 33,
   "id": "4c7e1e8b",
   "metadata": {},
   "outputs": [
    {
     "data": {
      "text/plain": [
       "<AxesSubplot:>"
      ]
     },
     "execution_count": 33,
     "metadata": {},
     "output_type": "execute_result"
    },
    {
     "data": {
      "image/png": "[encoded data removed]",
      "text/plain": [
       "<Figure size 432x288 with 2 Axes>"
      ]
     },
     "metadata": {
      "needs_background": "light"
     },
     "output_type": "display_data"
    }
   ],
   "source": [
    "import matplotlib.pyplot as plt\n",
    "sns.heatmap(df.corr(),annot=True,linewidth=0.1,linecolor=\"white\",fmt=\"0.2f\")"
   ]
  },
  {
   "cell_type": "code",
   "execution_count": 34,
   "id": "0dc203a6",
   "metadata": {},
   "outputs": [
    {
     "data": {
      "image/png": "[encoded data removed]",
      "text/plain": [
       "<Figure size 1440x432 with 1 Axes>"
      ]
     },
     "metadata": {
      "needs_background": "light"
     },
     "output_type": "display_data"
    }
   ],
   "source": [
    "#Check the corelation using plots\n",
    "plt.figure(figsize=(20,6))\n",
    "df.corr()[\"salary\"].sort_values(ascending=False).drop([\"salary\"]).plot(kind=\"bar\",color=\"c\")\n",
    "plt.xlabel(\"List\", fontsize=12)\n",
    "plt.ylabel(\"column with target names\", fontsize=10)\n",
    "plt.title(\"correlation\",fontsize=16)\n",
    "plt.show()"
   ]
  },
  {
   "cell_type": "code",
   "execution_count": 35,
   "id": "7e3ace58",
   "metadata": {},
   "outputs": [
    {
     "data": {
      "text/plain": [
       "rank            -1.151164\n",
       "discipline      -0.177684\n",
       "yrs.since.phd    0.300880\n",
       "yrs.service      0.650569\n",
       "sex             -2.709958\n",
       "salary           0.714568\n",
       "dtype: float64"
      ]
     },
     "execution_count": 35,
     "metadata": {},
     "output_type": "execute_result"
    }
   ],
   "source": [
    "#checking the skewness\n",
    "df.skew()"
   ]
  },
  {
   "cell_type": "code",
   "execution_count": 36,
   "id": "a8a71aff",
   "metadata": {},
   "outputs": [
    {
     "data": {
      "text/plain": [
       "sex             -2.709958\n",
       "rank            -1.151164\n",
       "discipline      -0.177684\n",
       "yrs.since.phd    0.300880\n",
       "yrs.service      0.650569\n",
       "salary           0.714568\n",
       "dtype: float64"
      ]
     },
     "execution_count": 36,
     "metadata": {},
     "output_type": "execute_result"
    }
   ],
   "source": [
    "df.skew().sort_values(ascending=True)"
   ]
  },
  {
   "cell_type": "markdown",
   "id": "37dc520e",
   "metadata": {},
   "source": [
    "+/-0.5 is the range for skewness\n",
    "\n",
    "#skewness is present in sex, rank, yrs.service and salary column\n",
    "\n",
    "salary-Target variable\n",
    "\n",
    "rank-categorical\n",
    "\n",
    "sex-categorical\n",
    "\n",
    "yrs.service-continious\n",
    "\n",
    "#we won't calculate skewness for categorical data because mean and std willnot be calculated for categorical data\n",
    "\n",
    "#skewness is present in yrs.service column but it will be in betwwen 0.5 to 1, Value between 0.5 and 1 or -0.5 and -1 is moderately skewed, so it will be ignored\n",
    "\n"
   ]
  },
  {
   "cell_type": "markdown",
   "id": "f4f3aa23",
   "metadata": {},
   "source": [
    "Checking the Outliers:"
   ]
  },
  {
   "cell_type": "code",
   "execution_count": 37,
   "id": "b71a69c8",
   "metadata": {},
   "outputs": [
    {
     "data": {
      "text/plain": [
       "rank             float64\n",
       "discipline       float64\n",
       "yrs.since.phd      int64\n",
       "yrs.service        int64\n",
       "sex              float64\n",
       "salary             int64\n",
       "dtype: object"
      ]
     },
     "execution_count": 37,
     "metadata": {},
     "output_type": "execute_result"
    }
   ],
   "source": [
    "df.dtypes"
   ]
  },
  {
   "cell_type": "code",
   "execution_count": null,
   "id": "9540e7d4",
   "metadata": {},
   "outputs": [],
   "source": [
    " #boxplot completely works on principle of quartiles and also the box plot on categorical data is not logical to do, so we go for continious data"
   ]
  },
  {
   "cell_type": "code",
   "execution_count": 38,
   "id": "1a201615",
   "metadata": {},
   "outputs": [
    {
     "data": {
      "text/plain": [
       "<AxesSubplot:>"
      ]
     },
     "execution_count": 38,
     "metadata": {},
     "output_type": "execute_result"
    },
    {
     "data": {
      "image/png": "[encoded data removed]",
      "text/plain": [
       "<Figure size 432x288 with 1 Axes>"
      ]
     },
     "metadata": {
      "needs_background": "light"
     },
     "output_type": "display_data"
    }
   ],
   "source": [
    "df[\"salary\"].plot.box()"
   ]
  },
  {
   "cell_type": "code",
   "execution_count": 39,
   "id": "0f058d4b",
   "metadata": {},
   "outputs": [
    {
     "data": {
      "text/plain": [
       "<AxesSubplot:>"
      ]
     },
     "execution_count": 39,
     "metadata": {},
     "output_type": "execute_result"
    },
    {
     "data": {
      "image/png": "[encoded data removed]",
      "text/plain": [
       "<Figure size 432x288 with 1 Axes>"
      ]
     },
     "metadata": {
      "needs_background": "light"
     },
     "output_type": "display_data"
    }
   ],
   "source": [
    "df[\"yrs.since.phd\"].plot.box()"
   ]
  },
  {
   "cell_type": "code",
   "execution_count": 40,
   "id": "4bbc8985",
   "metadata": {},
   "outputs": [
    {
     "data": {
      "text/plain": [
       "<AxesSubplot:>"
      ]
     },
     "execution_count": 40,
     "metadata": {},
     "output_type": "execute_result"
    },
    {
     "data": {
      "image/png": "[encoded data removed]",
      "text/plain": [
       "<Figure size 432x288 with 1 Axes>"
      ]
     },
     "metadata": {
      "needs_background": "light"
     },
     "output_type": "display_data"
    }
   ],
   "source": [
    "df[\"yrs.since.phd\"].plot.box()"
   ]
  },
  {
   "cell_type": "code",
   "execution_count": 41,
   "id": "fe50b3c3",
   "metadata": {},
   "outputs": [
    {
     "data": {
      "text/plain": [
       "array([139750, 173200,  79750, 115000, 141500,  97000, 175000, 147765,\n",
       "       119250, 129000, 119800,  79800,  77700,  78000, 104800, 117150,\n",
       "       101000, 103450, 124750, 137000,  89565, 102580,  93904, 113068,\n",
       "        74830, 106294, 134885,  82379,  77000, 118223, 132261,  79916,\n",
       "       117256,  80225, 155750,  86373, 125196, 100938, 146500,  93418,\n",
       "       101299, 231545,  94384, 114778,  98193, 151768, 140096,  70768,\n",
       "       126621, 108875,  74692, 106639, 103760,  83900, 117704,  90215,\n",
       "       100135,  75044,  90304,  75243, 109785, 103613,  68404, 100522,\n",
       "        99418, 111512,  91412, 126320, 146856, 100131,  92391, 113398,\n",
       "        73266, 150480, 193000,  86100,  84240, 150743, 135585, 144640,\n",
       "        88825, 122960, 132825, 152708,  88400, 172272, 107008,  97032,\n",
       "       105128, 105631, 166024, 123683,  84000,  95611, 129676, 102235,\n",
       "       106689, 133217, 126933, 153303, 127512,  83850, 113543,  82099,\n",
       "        82600,  81500, 131205, 112429,  82100,  72500, 104279, 105000,\n",
       "       120806, 148500, 117515,  73500, 115313, 124309,  97262,  62884,\n",
       "        96614,  78162, 155500, 113278,  73000,  83001,  76840,  77500,\n",
       "       168635, 136000, 108262, 105668,  73877, 152664, 100102, 106608,\n",
       "        89942, 112696, 119015,  92000, 156938, 144651,  95079, 128148,\n",
       "       111168, 103994, 118971, 113341,  88000,  95408, 137167,  89516,\n",
       "       176500,  98510,  88795, 105890, 167284, 130664, 101210, 181257,\n",
       "        91227, 151575,  93164, 134185, 111751,  95436, 100944, 147349,\n",
       "       142467, 141136, 100000, 150000, 134000, 103750, 107500, 106300,\n",
       "       153750, 180000, 133700, 122100,  86250,  90000, 113600,  92700,\n",
       "       189409, 114500, 119700, 160400, 152500, 165000,  96545, 162200,\n",
       "       120000,  91300, 163200,  91000, 111350, 128400, 126200, 118700,\n",
       "       145350, 146000, 105350, 109650, 119500, 170000, 145200, 107150,\n",
       "       129600,  87800, 122400,  63900,  70000,  88175, 133900,  73300,\n",
       "       148750, 117555,  69700,  81700, 114000,  63100,  77202,  96200,\n",
       "        69200, 122875, 102600, 108200,  84273,  90450,  91100, 101100,\n",
       "       128800, 204000, 109000, 102000, 132000, 116450,  83000, 140300,\n",
       "        74000,  73800,  92550,  88600, 107550, 121200, 126000,  99000,\n",
       "       134800, 143940, 104350,  89650, 103700, 143250, 194800,  78500,\n",
       "        93000, 107200, 107100, 100600, 136500, 103600,  57800, 155865,\n",
       "        88650,  81800, 115800,  85000, 150500, 174500, 168500, 183800,\n",
       "       107300,  97150, 126300, 148800,  72300,  70700, 127100, 170500,\n",
       "       105260, 144050,  74500, 122500, 166800,  92050, 108100,  94350,\n",
       "       100351, 146800,  84716,  71065,  67559, 134550, 135027, 104428,\n",
       "        95642, 126431, 161101, 162221,  84500, 124714, 151650,  99247,\n",
       "       134778, 192253, 116518, 105450, 145098, 104542, 151445,  98053,\n",
       "       145000, 128464, 137317, 106231, 124312, 114596, 162150, 150376,\n",
       "       107986, 142023, 128250,  80139, 144309, 186960,  93519, 142500,\n",
       "       138000,  83600, 145028,  88709, 107309, 109954,  78785, 121946,\n",
       "       109646, 138771,  81285, 205500, 101036, 115435, 108413, 131950,\n",
       "       134690,  78182, 110515, 109707, 136660, 103275, 103649,  74856,\n",
       "        77081, 150680, 104121,  75996, 172505,  86895, 125192, 114330,\n",
       "       139219, 109305, 119450, 186023, 166605, 151292, 103106, 150564,\n",
       "       101738,  95329,  81035], dtype=int64)"
      ]
     },
     "execution_count": 41,
     "metadata": {},
     "output_type": "execute_result"
    }
   ],
   "source": [
    "df[\"salary\"].unique()"
   ]
  },
  {
   "cell_type": "markdown",
   "id": "d0d34864",
   "metadata": {},
   "source": [
    "\n",
    "\n",
    "Outlier Removal:"
   ]
  },
  {
   "cell_type": "code",
   "execution_count": 42,
   "id": "d9fd0a4b",
   "metadata": {},
   "outputs": [
    {
     "data": {
      "text/plain": [
       "(397, 6)"
      ]
     },
     "execution_count": 42,
     "metadata": {},
     "output_type": "execute_result"
    }
   ],
   "source": [
    "df.shape"
   ]
  },
  {
   "cell_type": "code",
   "execution_count": 43,
   "id": "d93d9e29",
   "metadata": {},
   "outputs": [
    {
     "data": {
      "text/plain": [
       "(array([  9,  19,  24,  34,  35,  43,  47,  48,  52,  63,  68,  84,  90,\n",
       "        103, 114, 119, 123, 127, 131, 132, 133, 148, 153, 179, 186, 218,\n",
       "        230, 231, 233, 237, 245, 253, 254, 274, 316, 323, 330, 332, 334,\n",
       "        341, 358, 361, 364], dtype=int64),\n",
       " array([4, 4, 4, 4, 4, 5, 4, 4, 4, 4, 4, 4, 4, 4, 4, 4, 4, 4, 3, 4, 4, 4,\n",
       "        4, 4, 4, 4, 4, 4, 4, 4, 4, 4, 4, 4, 4, 4, 3, 4, 4, 4, 4, 4, 5],\n",
       "       dtype=int64))"
      ]
     },
     "execution_count": 43,
     "metadata": {},
     "output_type": "execute_result"
    }
   ],
   "source": [
    "from scipy.stats import zscore\n",
    "import numpy as np\n",
    "z=np.abs(zscore(df))\n",
    "threshold=3\n",
    "np.where(z>3)"
   ]
  },
  {
   "cell_type": "code",
   "execution_count": 44,
   "id": "5595683e",
   "metadata": {},
   "outputs": [
    {
     "data": {
      "text/plain": [
       "array([1., 0.])"
      ]
     },
     "execution_count": 44,
     "metadata": {},
     "output_type": "execute_result"
    }
   ],
   "source": [
    "df[\"sex\"].unique()"
   ]
  },
  {
   "cell_type": "markdown",
   "id": "7fd67b5d",
   "metadata": {},
   "source": [
    "outliers are found at 4th column and it is a categorical data, we cannot apply outlier removal on categorical feature"
   ]
  },
  {
   "cell_type": "markdown",
   "id": "23ccd9aa",
   "metadata": {},
   "source": [
    "Seperating the columns into features and target:\n",
    "    "
   ]
  },
  {
   "cell_type": "code",
   "execution_count": 49,
   "id": "c9702cea",
   "metadata": {},
   "outputs": [
    {
     "data": {
      "text/html": [
       "<div>\n",
       "<style scoped>\n",
       "    .dataframe tbody tr th:only-of-type {\n",
       "        vertical-align: middle;\n",
       "    }\n",
       "\n",
       "    .dataframe tbody tr th {\n",
       "        vertical-align: top;\n",
       "    }\n",
       "\n",
       "    .dataframe thead th {\n",
       "        text-align: right;\n",
       "    }\n",
       "</style>\n",
       "<table border=\"1\" class=\"dataframe\">\n",
       "  <thead>\n",
       "    <tr style=\"text-align: right;\">\n",
       "      <th></th>\n",
       "      <th>rank</th>\n",
       "      <th>discipline</th>\n",
       "      <th>yrs.since.phd</th>\n",
       "      <th>yrs.service</th>\n",
       "      <th>sex</th>\n",
       "    </tr>\n",
       "  </thead>\n",
       "  <tbody>\n",
       "    <tr>\n",
       "      <th>0</th>\n",
       "      <td>2.0</td>\n",
       "      <td>1.0</td>\n",
       "      <td>19</td>\n",
       "      <td>18</td>\n",
       "      <td>1.0</td>\n",
       "    </tr>\n",
       "    <tr>\n",
       "      <th>1</th>\n",
       "      <td>2.0</td>\n",
       "      <td>1.0</td>\n",
       "      <td>20</td>\n",
       "      <td>16</td>\n",
       "      <td>1.0</td>\n",
       "    </tr>\n",
       "    <tr>\n",
       "      <th>2</th>\n",
       "      <td>1.0</td>\n",
       "      <td>1.0</td>\n",
       "      <td>4</td>\n",
       "      <td>3</td>\n",
       "      <td>1.0</td>\n",
       "    </tr>\n",
       "    <tr>\n",
       "      <th>3</th>\n",
       "      <td>2.0</td>\n",
       "      <td>1.0</td>\n",
       "      <td>45</td>\n",
       "      <td>39</td>\n",
       "      <td>1.0</td>\n",
       "    </tr>\n",
       "    <tr>\n",
       "      <th>4</th>\n",
       "      <td>2.0</td>\n",
       "      <td>1.0</td>\n",
       "      <td>40</td>\n",
       "      <td>41</td>\n",
       "      <td>1.0</td>\n",
       "    </tr>\n",
       "    <tr>\n",
       "      <th>...</th>\n",
       "      <td>...</td>\n",
       "      <td>...</td>\n",
       "      <td>...</td>\n",
       "      <td>...</td>\n",
       "      <td>...</td>\n",
       "    </tr>\n",
       "    <tr>\n",
       "      <th>392</th>\n",
       "      <td>2.0</td>\n",
       "      <td>0.0</td>\n",
       "      <td>33</td>\n",
       "      <td>30</td>\n",
       "      <td>1.0</td>\n",
       "    </tr>\n",
       "    <tr>\n",
       "      <th>393</th>\n",
       "      <td>2.0</td>\n",
       "      <td>0.0</td>\n",
       "      <td>31</td>\n",
       "      <td>19</td>\n",
       "      <td>1.0</td>\n",
       "    </tr>\n",
       "    <tr>\n",
       "      <th>394</th>\n",
       "      <td>2.0</td>\n",
       "      <td>0.0</td>\n",
       "      <td>42</td>\n",
       "      <td>25</td>\n",
       "      <td>1.0</td>\n",
       "    </tr>\n",
       "    <tr>\n",
       "      <th>395</th>\n",
       "      <td>2.0</td>\n",
       "      <td>0.0</td>\n",
       "      <td>25</td>\n",
       "      <td>15</td>\n",
       "      <td>1.0</td>\n",
       "    </tr>\n",
       "    <tr>\n",
       "      <th>396</th>\n",
       "      <td>1.0</td>\n",
       "      <td>0.0</td>\n",
       "      <td>8</td>\n",
       "      <td>4</td>\n",
       "      <td>1.0</td>\n",
       "    </tr>\n",
       "  </tbody>\n",
       "</table>\n",
       "<p>397 rows × 5 columns</p>\n",
       "</div>"
      ],
      "text/plain": [
       "     rank  discipline  yrs.since.phd  yrs.service  sex\n",
       "0     2.0         1.0             19           18  1.0\n",
       "1     2.0         1.0             20           16  1.0\n",
       "2     1.0         1.0              4            3  1.0\n",
       "3     2.0         1.0             45           39  1.0\n",
       "4     2.0         1.0             40           41  1.0\n",
       "..    ...         ...            ...          ...  ...\n",
       "392   2.0         0.0             33           30  1.0\n",
       "393   2.0         0.0             31           19  1.0\n",
       "394   2.0         0.0             42           25  1.0\n",
       "395   2.0         0.0             25           15  1.0\n",
       "396   1.0         0.0              8            4  1.0\n",
       "\n",
       "[397 rows x 5 columns]"
      ]
     },
     "execution_count": 49,
     "metadata": {},
     "output_type": "execute_result"
    }
   ],
   "source": [
    "features=df.drop(\"salary\",axis=1)\n",
    "features"
   ]
  },
  {
   "cell_type": "code",
   "execution_count": 50,
   "id": "3a316fd8",
   "metadata": {},
   "outputs": [
    {
     "data": {
      "text/plain": [
       "0      139750\n",
       "1      173200\n",
       "2       79750\n",
       "3      115000\n",
       "4      141500\n",
       "        ...  \n",
       "392    103106\n",
       "393    150564\n",
       "394    101738\n",
       "395     95329\n",
       "396     81035\n",
       "Name: salary, Length: 397, dtype: int64"
      ]
     },
     "execution_count": 50,
     "metadata": {},
     "output_type": "execute_result"
    }
   ],
   "source": [
    "target=df[\"salary\"]\n",
    "target"
   ]
  },
  {
   "cell_type": "markdown",
   "id": "eb1c29ad",
   "metadata": {},
   "source": [
    "#Scaling the data"
   ]
  },
  {
   "cell_type": "code",
   "execution_count": 51,
   "id": "de911d4a",
   "metadata": {},
   "outputs": [],
   "source": [
    "from sklearn.preprocessing import MinMaxScaler\n",
    "mms=MinMaxScaler()\n",
    "from sklearn.linear_model import LinearRegression\n",
    "lr=LinearRegression()\n",
    "from sklearn.metrics import r2_score\n",
    "from sklearn.model_selection import train_test_split\n"
   ]
  },
  {
   "cell_type": "code",
   "execution_count": 52,
   "id": "6c715b60",
   "metadata": {},
   "outputs": [],
   "source": [
    "import warnings\n",
    "warnings.filterwarnings(\"ignore\")\n"
   ]
  },
  {
   "cell_type": "code",
   "execution_count": 53,
   "id": "b754edf9",
   "metadata": {},
   "outputs": [
    {
     "name": "stdout",
     "output_type": "stream",
     "text": [
      "At random state 0, the training accuracy is: 0.3611999954853077\n",
      "At random state 0, the testing accuracy is: 0.4079258314975236\n",
      "\n",
      "\n",
      "At random state 1, the training accuracy is: 0.3604245854198438\n",
      "At random state 1, the testing accuracy is: 0.41633641876629457\n",
      "\n",
      "\n",
      "At random state 2, the training accuracy is: 0.37547390964955596\n",
      "At random state 2, the testing accuracy is: 0.3600189554526694\n",
      "\n",
      "\n",
      "At random state 3, the training accuracy is: 0.3847313825130595\n",
      "At random state 3, the testing accuracy is: 0.3293529875010861\n",
      "\n",
      "\n",
      "At random state 4, the training accuracy is: 0.38517450334380465\n",
      "At random state 4, the testing accuracy is: 0.304400813331562\n",
      "\n",
      "\n",
      "At random state 5, the training accuracy is: 0.3950033630150771\n",
      "At random state 5, the testing accuracy is: 0.2752907752774737\n",
      "\n",
      "\n",
      "At random state 6, the training accuracy is: 0.3650308031752799\n",
      "At random state 6, the testing accuracy is: 0.40189870806075667\n",
      "\n",
      "\n",
      "At random state 7, the training accuracy is: 0.3575963886324032\n",
      "At random state 7, the testing accuracy is: 0.43603149833368426\n",
      "\n",
      "\n",
      "At random state 8, the training accuracy is: 0.37078641617615615\n",
      "At random state 8, the testing accuracy is: 0.3520895860059552\n",
      "\n",
      "\n",
      "At random state 9, the training accuracy is: 0.3689988332195654\n",
      "At random state 9, the testing accuracy is: 0.3880754485440506\n",
      "\n",
      "\n",
      "At random state 10, the training accuracy is: 0.3833769683025209\n",
      "At random state 10, the testing accuracy is: 0.3237669060179075\n",
      "\n",
      "\n",
      "At random state 11, the training accuracy is: 0.38471884156243197\n",
      "At random state 11, the testing accuracy is: 0.2808308392930563\n",
      "\n",
      "\n",
      "At random state 12, the training accuracy is: 0.37676668231129506\n",
      "At random state 12, the testing accuracy is: 0.34397033297856505\n",
      "\n",
      "\n",
      "At random state 13, the training accuracy is: 0.37914531495889015\n",
      "At random state 13, the testing accuracy is: 0.3037213930266667\n",
      "\n",
      "\n",
      "At random state 14, the training accuracy is: 0.4158978369713757\n",
      "At random state 14, the testing accuracy is: 0.15184410537740634\n",
      "\n",
      "\n",
      "At random state 15, the training accuracy is: 0.37127624600584885\n",
      "At random state 15, the testing accuracy is: 0.35351934262062856\n",
      "\n",
      "\n",
      "At random state 16, the training accuracy is: 0.3878621443484206\n",
      "At random state 16, the testing accuracy is: 0.29241393404970406\n",
      "\n",
      "\n",
      "At random state 17, the training accuracy is: 0.3897546182765135\n",
      "At random state 17, the testing accuracy is: 0.26101811962187205\n",
      "\n",
      "\n",
      "At random state 18, the training accuracy is: 0.3650413646278945\n",
      "At random state 18, the testing accuracy is: 0.3698468335200642\n",
      "\n",
      "\n",
      "At random state 19, the training accuracy is: 0.36478587974538945\n",
      "At random state 19, the testing accuracy is: 0.39429266046792033\n",
      "\n",
      "\n",
      "At random state 20, the training accuracy is: 0.3622414400227313\n",
      "At random state 20, the testing accuracy is: 0.4010650535719702\n",
      "\n",
      "\n",
      "At random state 21, the training accuracy is: 0.3935643702731856\n",
      "At random state 21, the testing accuracy is: 0.28484864022169365\n",
      "\n",
      "\n",
      "At random state 22, the training accuracy is: 0.3848789411044249\n",
      "At random state 22, the testing accuracy is: 0.3105065511907835\n",
      "\n",
      "\n",
      "At random state 23, the training accuracy is: 0.388340130912739\n",
      "At random state 23, the testing accuracy is: 0.30908323002197435\n",
      "\n",
      "\n",
      "At random state 24, the training accuracy is: 0.4009695516201146\n",
      "At random state 24, the testing accuracy is: 0.23700622039991426\n",
      "\n",
      "\n",
      "At random state 25, the training accuracy is: 0.3872852164225197\n",
      "At random state 25, the testing accuracy is: 0.2857545713280303\n",
      "\n",
      "\n",
      "At random state 26, the training accuracy is: 0.3734925217225621\n",
      "At random state 26, the testing accuracy is: 0.3570465945472763\n",
      "\n",
      "\n",
      "At random state 27, the training accuracy is: 0.3853612529960597\n",
      "At random state 27, the testing accuracy is: 0.3200883336422755\n",
      "\n",
      "\n",
      "At random state 28, the training accuracy is: 0.4053914345039713\n",
      "At random state 28, the testing accuracy is: 0.22969703483016035\n",
      "\n",
      "\n",
      "At random state 29, the training accuracy is: 0.40451288485532433\n",
      "At random state 29, the testing accuracy is: 0.19765027396884882\n",
      "\n",
      "\n",
      "At random state 30, the training accuracy is: 0.36693572181305\n",
      "At random state 30, the testing accuracy is: 0.3783571251635153\n",
      "\n",
      "\n",
      "At random state 31, the training accuracy is: 0.37953137501705136\n",
      "At random state 31, the testing accuracy is: 0.32295138072829754\n",
      "\n",
      "\n",
      "At random state 32, the training accuracy is: 0.3685576596306931\n",
      "At random state 32, the testing accuracy is: 0.3671499580137658\n",
      "\n",
      "\n",
      "At random state 33, the training accuracy is: 0.3746333242328249\n",
      "At random state 33, the testing accuracy is: 0.3503249588399546\n",
      "\n",
      "\n",
      "At random state 34, the training accuracy is: 0.3670604216412362\n",
      "At random state 34, the testing accuracy is: 0.3924145850362385\n",
      "\n",
      "\n",
      "At random state 35, the training accuracy is: 0.3849378452508392\n",
      "At random state 35, the testing accuracy is: 0.3314798741757373\n",
      "\n",
      "\n",
      "At random state 36, the training accuracy is: 0.3847552137593607\n",
      "At random state 36, the testing accuracy is: 0.27039005927407944\n",
      "\n",
      "\n",
      "At random state 37, the training accuracy is: 0.34899945766206086\n",
      "At random state 37, the testing accuracy is: 0.4128426546458116\n",
      "\n",
      "\n",
      "At random state 38, the training accuracy is: 0.38650707960273367\n",
      "At random state 38, the testing accuracy is: 0.2833985042820414\n",
      "\n",
      "\n",
      "At random state 39, the training accuracy is: 0.3706020285098687\n",
      "At random state 39, the testing accuracy is: 0.3718833413484989\n",
      "\n",
      "\n",
      "At random state 40, the training accuracy is: 0.3642294289210505\n",
      "At random state 40, the testing accuracy is: 0.3925435827595456\n",
      "\n",
      "\n",
      "At random state 41, the training accuracy is: 0.36091732884303906\n",
      "At random state 41, the testing accuracy is: 0.4018359148946383\n",
      "\n",
      "\n",
      "At random state 42, the training accuracy is: 0.4200558658334024\n",
      "At random state 42, the testing accuracy is: 0.10796880791419872\n",
      "\n",
      "\n",
      "At random state 43, the training accuracy is: 0.40414594484463107\n",
      "At random state 43, the testing accuracy is: 0.2575409350804294\n",
      "\n",
      "\n",
      "At random state 44, the training accuracy is: 0.3725463631852005\n",
      "At random state 44, the testing accuracy is: 0.36713568508178307\n",
      "\n",
      "\n",
      "At random state 45, the training accuracy is: 0.4137230485402982\n",
      "At random state 45, the testing accuracy is: 0.22445225846745387\n",
      "\n",
      "\n",
      "At random state 46, the training accuracy is: 0.34372562408831253\n",
      "At random state 46, the testing accuracy is: 0.3896606094506979\n",
      "\n",
      "\n",
      "At random state 47, the training accuracy is: 0.37188114106913284\n",
      "At random state 47, the testing accuracy is: 0.3539587226598814\n",
      "\n",
      "\n",
      "At random state 48, the training accuracy is: 0.36429183378263275\n",
      "At random state 48, the testing accuracy is: 0.3979596000732688\n",
      "\n",
      "\n",
      "At random state 49, the training accuracy is: 0.3775398557146239\n",
      "At random state 49, the testing accuracy is: 0.33197433115663044\n",
      "\n",
      "\n",
      "At random state 50, the training accuracy is: 0.37893923298505605\n",
      "At random state 50, the testing accuracy is: 0.34563177771023335\n",
      "\n",
      "\n",
      "At random state 51, the training accuracy is: 0.3748812535527186\n",
      "At random state 51, the testing accuracy is: 0.34622301247708864\n",
      "\n",
      "\n",
      "At random state 52, the training accuracy is: 0.3690443454685478\n",
      "At random state 52, the testing accuracy is: 0.3682296312128154\n",
      "\n",
      "\n",
      "At random state 53, the training accuracy is: 0.3646780402149976\n",
      "At random state 53, the testing accuracy is: 0.3864862432119226\n",
      "\n",
      "\n",
      "At random state 54, the training accuracy is: 0.38120976962990694\n",
      "At random state 54, the testing accuracy is: 0.32307953267625455\n",
      "\n",
      "\n",
      "At random state 55, the training accuracy is: 0.3804240550840484\n",
      "At random state 55, the testing accuracy is: 0.32729199394177766\n",
      "\n",
      "\n",
      "At random state 56, the training accuracy is: 0.38888132640425854\n",
      "At random state 56, the testing accuracy is: 0.2619212862528706\n",
      "\n",
      "\n",
      "At random state 57, the training accuracy is: 0.36282545034634295\n",
      "At random state 57, the testing accuracy is: 0.4099319211959538\n",
      "\n",
      "\n",
      "At random state 58, the training accuracy is: 0.3904276399883323\n",
      "At random state 58, the testing accuracy is: 0.2808757033228064\n",
      "\n",
      "\n",
      "At random state 59, the training accuracy is: 0.36918999968594823\n",
      "At random state 59, the testing accuracy is: 0.3672167591130825\n",
      "\n",
      "\n",
      "At random state 60, the training accuracy is: 0.3627615748615993\n",
      "At random state 60, the testing accuracy is: 0.4342158637805855\n",
      "\n",
      "\n",
      "At random state 61, the training accuracy is: 0.3596569629577453\n",
      "At random state 61, the testing accuracy is: 0.4243091206283235\n",
      "\n",
      "\n",
      "At random state 62, the training accuracy is: 0.36218820814339436\n",
      "At random state 62, the testing accuracy is: 0.3402679535175037\n",
      "\n",
      "\n",
      "At random state 63, the training accuracy is: 0.36020153914715225\n",
      "At random state 63, the testing accuracy is: 0.4092594405269713\n",
      "\n",
      "\n",
      "At random state 64, the training accuracy is: 0.34487518402780026\n",
      "At random state 64, the testing accuracy is: 0.45685137910944673\n",
      "\n",
      "\n",
      "At random state 65, the training accuracy is: 0.3966493366743805\n",
      "At random state 65, the testing accuracy is: 0.271039118441054\n",
      "\n",
      "\n",
      "At random state 66, the training accuracy is: 0.36941312653397507\n",
      "At random state 66, the testing accuracy is: 0.37171519604211134\n",
      "\n",
      "\n",
      "At random state 67, the training accuracy is: 0.3577974392746197\n",
      "At random state 67, the testing accuracy is: 0.40893219589737706\n",
      "\n",
      "\n",
      "At random state 68, the training accuracy is: 0.4112434481572016\n",
      "At random state 68, the testing accuracy is: 0.18760305905186425\n",
      "\n",
      "\n",
      "At random state 69, the training accuracy is: 0.3583537425297256\n",
      "At random state 69, the testing accuracy is: 0.4055461597734453\n",
      "\n",
      "\n",
      "At random state 70, the training accuracy is: 0.40782071088368554\n",
      "At random state 70, the testing accuracy is: 0.12457420628140248\n",
      "\n",
      "\n",
      "At random state 71, the training accuracy is: 0.3798566422299212\n",
      "At random state 71, the testing accuracy is: 0.3310077740650834\n",
      "\n",
      "\n",
      "At random state 72, the training accuracy is: 0.37306545398657165\n",
      "At random state 72, the testing accuracy is: 0.33282576705225164\n",
      "\n",
      "\n",
      "At random state 73, the training accuracy is: 0.3684736133822437\n",
      "At random state 73, the testing accuracy is: 0.37565170848674045\n",
      "\n",
      "\n",
      "At random state 74, the training accuracy is: 0.36328541761317845\n",
      "At random state 74, the testing accuracy is: 0.4145405703104328\n",
      "\n",
      "\n",
      "At random state 75, the training accuracy is: 0.3699093187667537\n",
      "At random state 75, the testing accuracy is: 0.3766545083638232\n",
      "\n",
      "\n",
      "At random state 76, the training accuracy is: 0.3893765947869847\n",
      "At random state 76, the testing accuracy is: 0.24469967759754885\n",
      "\n",
      "\n",
      "At random state 77, the training accuracy is: 0.36208736257404006\n",
      "At random state 77, the testing accuracy is: 0.38689241011567266\n",
      "\n",
      "\n",
      "At random state 78, the training accuracy is: 0.3936404592790972\n",
      "At random state 78, the testing accuracy is: 0.27866530930150046\n",
      "\n",
      "\n",
      "At random state 79, the training accuracy is: 0.3400734467804928\n",
      "At random state 79, the testing accuracy is: 0.508490881969465\n",
      "\n",
      "\n",
      "At random state 80, the training accuracy is: 0.34891747740210655\n",
      "At random state 80, the testing accuracy is: 0.5086207408821504\n",
      "\n",
      "\n",
      "At random state 81, the training accuracy is: 0.35513373474139565\n",
      "At random state 81, the testing accuracy is: 0.4149346606972968\n",
      "\n",
      "\n",
      "At random state 82, the training accuracy is: 0.37417707170637116\n",
      "At random state 82, the testing accuracy is: 0.35099796023731\n",
      "\n",
      "\n",
      "At random state 83, the training accuracy is: 0.377726947712559\n",
      "At random state 83, the testing accuracy is: 0.3236720737678672\n",
      "\n",
      "\n",
      "At random state 84, the training accuracy is: 0.38401378181768164\n",
      "At random state 84, the testing accuracy is: 0.3127841540168671\n",
      "\n",
      "\n",
      "At random state 85, the training accuracy is: 0.376142718876315\n",
      "At random state 85, the testing accuracy is: 0.3500612740886736\n",
      "\n",
      "\n",
      "At random state 86, the training accuracy is: 0.3767878645972712\n",
      "At random state 86, the testing accuracy is: 0.3444389459787981\n",
      "\n",
      "\n",
      "At random state 87, the training accuracy is: 0.386606834116077\n",
      "At random state 87, the testing accuracy is: 0.2295416451299277\n",
      "\n",
      "\n",
      "At random state 88, the training accuracy is: 0.3555900942301574\n",
      "At random state 88, the testing accuracy is: 0.44627379242086973\n",
      "\n",
      "\n",
      "At random state 89, the training accuracy is: 0.3776188229055102\n",
      "At random state 89, the testing accuracy is: 0.33821112710879864\n",
      "\n",
      "\n",
      "At random state 90, the training accuracy is: 0.35598740233084825\n",
      "At random state 90, the testing accuracy is: 0.4188943675786001\n",
      "\n",
      "\n",
      "At random state 91, the training accuracy is: 0.37189951588468795\n",
      "At random state 91, the testing accuracy is: 0.3601565810059806\n",
      "\n",
      "\n",
      "At random state 92, the training accuracy is: 0.37459606418072844\n",
      "At random state 92, the testing accuracy is: 0.3541542254552805\n",
      "\n",
      "\n",
      "At random state 93, the training accuracy is: 0.4045365985584488\n",
      "At random state 93, the testing accuracy is: 0.2273757289684758\n",
      "\n",
      "\n",
      "At random state 94, the training accuracy is: 0.39372739145675406\n",
      "At random state 94, the testing accuracy is: 0.27206041164804473\n",
      "\n",
      "\n",
      "At random state 95, the training accuracy is: 0.3862133774021912\n",
      "At random state 95, the testing accuracy is: 0.3010575834925824\n",
      "\n",
      "\n",
      "At random state 96, the training accuracy is: 0.3544193864212418\n",
      "At random state 96, the testing accuracy is: 0.4253245406131324\n",
      "\n",
      "\n",
      "At random state 97, the training accuracy is: 0.3641510940616147\n",
      "At random state 97, the testing accuracy is: 0.4101498464906058\n",
      "\n",
      "\n",
      "At random state 98, the training accuracy is: 0.34983395760007274\n",
      "At random state 98, the testing accuracy is: 0.4322690928833405\n",
      "\n",
      "\n",
      "At random state 99, the training accuracy is: 0.3640872612019751\n",
      "At random state 99, the testing accuracy is: 0.41102180904046104\n",
      "\n",
      "\n"
     ]
    }
   ],
   "source": [
    "for i in range(0,100):\n",
    "    features_train,features_test,target_train,target_test=train_test_split(features,target,test_size=0.2,random_state=i)\n",
    "    lr.fit(features_train,target_train)\n",
    "    pred_train=lr.predict(features_train)\n",
    "    pred_test=lr.predict(features_test)\n",
    "    print(f\"At random state {i}, the training accuracy is: {r2_score(target_train,pred_train)}\")\n",
    "    print(f\"At random state {i}, the testing accuracy is: {r2_score(target_test,pred_test)}\")\n",
    "    print(\"\\n\")"
   ]
  },
  {
   "cell_type": "code",
   "execution_count": 62,
   "id": "866a7127",
   "metadata": {},
   "outputs": [],
   "source": [
    "features_train, features_test, target_train, target_test=train_test_split(features,target,test_size=0.2,random_state=52)"
   ]
  },
  {
   "cell_type": "code",
   "execution_count": 63,
   "id": "e679586a",
   "metadata": {},
   "outputs": [
    {
     "data": {
      "text/plain": [
       "LinearRegression()"
      ]
     },
     "execution_count": 63,
     "metadata": {},
     "output_type": "execute_result"
    }
   ],
   "source": [
    "#train the model\n",
    "lr.fit(features_train,target_train)"
   ]
  },
  {
   "cell_type": "code",
   "execution_count": 68,
   "id": "4451d23b",
   "metadata": {},
   "outputs": [],
   "source": [
    "pred_test=lr.predict(features_test)"
   ]
  },
  {
   "cell_type": "code",
   "execution_count": 65,
   "id": "65825000",
   "metadata": {},
   "outputs": [
    {
     "name": "stdout",
     "output_type": "stream",
     "text": [
      "0.3682296312128154\n"
     ]
    }
   ],
   "source": [
    "print(r2_score(target_test,pred_test))"
   ]
  },
  {
   "cell_type": "markdown",
   "id": "7b394666",
   "metadata": {},
   "source": [
    "cross validation of model"
   ]
  },
  {
   "cell_type": "code",
   "execution_count": 67,
   "id": "4a7eb924",
   "metadata": {},
   "outputs": [
    {
     "name": "stdout",
     "output_type": "stream",
     "text": [
      "At cross fold 2 the cv score is 0.3270801167406512 and accuracy score for training is -0.39755881262412696 and accuracy for the testing is 0.3682296312128154\n",
      "\n",
      "\n",
      "At cross fold 3 the cv score is 0.3203328673059879 and accuracy score for training is -0.39755881262412696 and accuracy for the testing is 0.3682296312128154\n",
      "\n",
      "\n",
      "At cross fold 4 the cv score is 0.3218196693768362 and accuracy score for training is -0.39755881262412696 and accuracy for the testing is 0.3682296312128154\n",
      "\n",
      "\n",
      "At cross fold 5 the cv score is 0.29569928663871775 and accuracy score for training is -0.39755881262412696 and accuracy for the testing is 0.3682296312128154\n",
      "\n",
      "\n",
      "At cross fold 6 the cv score is 0.33096341839295546 and accuracy score for training is -0.39755881262412696 and accuracy for the testing is 0.3682296312128154\n",
      "\n",
      "\n",
      "At cross fold 7 the cv score is 0.3257704419996536 and accuracy score for training is -0.39755881262412696 and accuracy for the testing is 0.3682296312128154\n",
      "\n",
      "\n",
      "At cross fold 8 the cv score is 0.3310060584513582 and accuracy score for training is -0.39755881262412696 and accuracy for the testing is 0.3682296312128154\n",
      "\n",
      "\n",
      "At cross fold 9 the cv score is 0.3043911239889371 and accuracy score for training is -0.39755881262412696 and accuracy for the testing is 0.3682296312128154\n",
      "\n",
      "\n"
     ]
    }
   ],
   "source": [
    "Train_accuracy=r2_score(target_train,pred_train)\n",
    "Test_accuracy=r2_score(target_test,pred_test)\n",
    "\n",
    "from sklearn.model_selection import cross_val_score\n",
    "for j in range(2,10):\n",
    "    cv_score=cross_val_score(lr,features,target,cv=j)\n",
    "    cv_mean=cv_score.mean()\n",
    "    print(f\"At cross fold {j} the cv score is {cv_mean} and accuracy score for training is {Train_accuracy} and accuracy for the testing is {Test_accuracy}\")\n",
    "    print(\"\\n\")\n",
    "          "
   ]
  },
  {
   "cell_type": "code",
   "execution_count": 69,
   "id": "c013ffc0",
   "metadata": {},
   "outputs": [
    {
     "data": {
      "image/png": "[encoded data removed]",
      "text/plain": [
       "<Figure size 504x360 with 1 Axes>"
      ]
     },
     "metadata": {
      "needs_background": "light"
     },
     "output_type": "display_data"
    }
   ],
   "source": [
    "import matplotlib.pyplot as plt\n",
    "plt.figure(figsize=(7,5))\n",
    "plt.scatter(x=target_test,y=pred_test, color=\"r\")\n",
    "plt.xlabel(\"Actual salary\", fontsize=14)\n",
    "plt.ylabel(\"predicted salary\", fontsize=14)\n",
    "plt.title(\"Linear Regression\", fontsize=18)\n",
    "plt.savefig(\"lr.png\")\n",
    "plt.show()"
   ]
  },
  {
   "cell_type": "markdown",
   "id": "408f21e5",
   "metadata": {},
   "source": [
    "Regularization"
   ]
  },
  {
   "cell_type": "code",
   "execution_count": 70,
   "id": "8c2b12a0",
   "metadata": {},
   "outputs": [],
   "source": [
    "from sklearn.model_selection import GridSearchCV\n",
    "from sklearn.model_selection import cross_val_score\n",
    "import warnings\n",
    "warnings.filterwarnings(\"ignore\")"
   ]
  },
  {
   "cell_type": "code",
   "execution_count": 71,
   "id": "866fa326",
   "metadata": {},
   "outputs": [
    {
     "name": "stdout",
     "output_type": "stream",
     "text": [
      "{'alpha': 10, 'random_state': 0}\n"
     ]
    }
   ],
   "source": [
    "from sklearn.linear_model import Lasso\n",
    "parameters= {\"alpha\":[.0001, .001, .01, -1, 1, 10], \"random_state\":list(range(0,10))}\n",
    "ls= Lasso()\n",
    "clf=GridSearchCV(ls,parameters)\n",
    "clf.fit(features_train,target_train)\n",
    "print(clf.best_params_)\n"
   ]
  },
  {
   "cell_type": "code",
   "execution_count": 72,
   "id": "960242ed",
   "metadata": {},
   "outputs": [
    {
     "data": {
      "text/plain": [
       "36.90422719427353"
      ]
     },
     "execution_count": 72,
     "metadata": {},
     "output_type": "execute_result"
    }
   ],
   "source": [
    "#final model training\n",
    "ls=Lasso(alpha=10,random_state=0)\n",
    "ls.fit(features_train,target_train)\n",
    "ls_score_training = ls.score(features_train,target_train)\n",
    "pred_ls=ls.predict(features_test)\n",
    "ls_score_training*100"
   ]
  },
  {
   "cell_type": "code",
   "execution_count": 73,
   "id": "a7326e04",
   "metadata": {},
   "outputs": [],
   "source": [
    "pred_ls= ls.predict(features_test)"
   ]
  },
  {
   "cell_type": "code",
   "execution_count": 74,
   "id": "26cfb572",
   "metadata": {},
   "outputs": [
    {
     "data": {
      "text/plain": [
       "36.772084379567005"
      ]
     },
     "execution_count": 74,
     "metadata": {},
     "output_type": "execute_result"
    }
   ],
   "source": [
    "lss=r2_score(target_test,pred_ls)\n",
    "lss*100"
   ]
  },
  {
   "cell_type": "code",
   "execution_count": 75,
   "id": "83e294f5",
   "metadata": {},
   "outputs": [
    {
     "data": {
      "text/plain": [
       "33.102864358290255"
      ]
     },
     "execution_count": 75,
     "metadata": {},
     "output_type": "execute_result"
    }
   ],
   "source": [
    "cv_score=cross_val_score(ls,features,target,cv=8)\n",
    "cv_mean=cv_score.mean()\n",
    "cv_mean*100"
   ]
  },
  {
   "cell_type": "markdown",
   "id": "de116a18",
   "metadata": {},
   "source": [
    "Ensemble technique:"
   ]
  },
  {
   "cell_type": "code",
   "execution_count": 76,
   "id": "02cd22eb",
   "metadata": {},
   "outputs": [
    {
     "name": "stdout",
     "output_type": "stream",
     "text": [
      "{'criterion': 'mae', 'max_features': 'sqrt'}\n"
     ]
    }
   ],
   "source": [
    "from sklearn.model_selection import GridSearchCV\n",
    "from sklearn.ensemble import RandomForestRegressor\n",
    "\n",
    "parameters={\"criterion\" : [\"mse\", \"mae\"],\n",
    "           \"max_features\":[\"auto\", \"sqrt\", \"log2\"]}\n",
    "rf=RandomForestRegressor()\n",
    "clf=GridSearchCV(rf, parameters)\n",
    "clf.fit(features_train,target_train)\n",
    "\n",
    "print(clf.best_params_)"
   ]
  },
  {
   "cell_type": "code",
   "execution_count": null,
   "id": "63195212",
   "metadata": {},
   "outputs": [],
   "source": []
  },
  {
   "cell_type": "code",
   "execution_count": 77,
   "id": "e1e7f0bc",
   "metadata": {},
   "outputs": [
    {
     "name": "stdout",
     "output_type": "stream",
     "text": [
      "R2 Score : 32.228057951128505\n",
      "cross val score: 26.36364477190106\n"
     ]
    }
   ],
   "source": [
    "rf=RandomForestRegressor(criterion=\"mae\",max_features=\"auto\")\n",
    "rf.fit(features_train, target_train)\n",
    "rf.score(features_train, target_train)\n",
    "pred_decision =rf.predict(features_test)\n",
    "\n",
    "rfs=r2_score(target_test,pred_decision)\n",
    "print(\"R2 Score :\", rfs*100)\n",
    "\n",
    "rfscore= cross_val_score(rf,features,target,cv=5)\n",
    "rfc=rfscore.mean()\n",
    "print(\"cross val score:\" ,rfc*100)\n",
    "      \n",
    "      "
   ]
  },
  {
   "cell_type": "code",
   "execution_count": 78,
   "id": "d82c7202",
   "metadata": {},
   "outputs": [],
   "source": [
    "import pickle\n",
    "filename= \"salary.pkl\"\n",
    "pickle.dump(rf, open(filename, \"wb\"))"
   ]
  },
  {
   "cell_type": "markdown",
   "id": "ddd78d64",
   "metadata": {},
   "source": [
    "Conclusion:\n",
    "    "
   ]
  },
  {
   "cell_type": "code",
   "execution_count": 79,
   "id": "6684c8bb",
   "metadata": {},
   "outputs": [
    {
     "name": "stdout",
     "output_type": "stream",
     "text": [
      "32.228057951128505\n"
     ]
    }
   ],
   "source": [
    "loaded_model=pickle.load(open(\"salary.pkl\", \"rb\"))\n",
    "result=loaded_model.score(features_test, target_test)\n",
    "print(result*100)"
   ]
  },
  {
   "cell_type": "code",
   "execution_count": 80,
   "id": "17e131d4",
   "metadata": {},
   "outputs": [],
   "source": [
    "conclusion=pd.DataFrame([loaded_model.predict(features_test)[:],pred_decision[:]],index=[\"predicted\",\"original\"])"
   ]
  },
  {
   "cell_type": "code",
   "execution_count": 81,
   "id": "1aa45da9",
   "metadata": {},
   "outputs": [
    {
     "data": {
      "text/html": [
       "<div>\n",
       "<style scoped>\n",
       "    .dataframe tbody tr th:only-of-type {\n",
       "        vertical-align: middle;\n",
       "    }\n",
       "\n",
       "    .dataframe tbody tr th {\n",
       "        vertical-align: top;\n",
       "    }\n",
       "\n",
       "    .dataframe thead th {\n",
       "        text-align: right;\n",
       "    }\n",
       "</style>\n",
       "<table border=\"1\" class=\"dataframe\">\n",
       "  <thead>\n",
       "    <tr style=\"text-align: right;\">\n",
       "      <th></th>\n",
       "      <th>0</th>\n",
       "      <th>1</th>\n",
       "      <th>2</th>\n",
       "      <th>3</th>\n",
       "      <th>4</th>\n",
       "      <th>5</th>\n",
       "      <th>6</th>\n",
       "      <th>7</th>\n",
       "      <th>8</th>\n",
       "      <th>9</th>\n",
       "      <th>...</th>\n",
       "      <th>70</th>\n",
       "      <th>71</th>\n",
       "      <th>72</th>\n",
       "      <th>73</th>\n",
       "      <th>74</th>\n",
       "      <th>75</th>\n",
       "      <th>76</th>\n",
       "      <th>77</th>\n",
       "      <th>78</th>\n",
       "      <th>79</th>\n",
       "    </tr>\n",
       "  </thead>\n",
       "  <tbody>\n",
       "    <tr>\n",
       "      <th>predicted</th>\n",
       "      <td>104862.43</td>\n",
       "      <td>121778.185</td>\n",
       "      <td>130100.935</td>\n",
       "      <td>78064.14</td>\n",
       "      <td>139929.305</td>\n",
       "      <td>81021.98</td>\n",
       "      <td>128654.82</td>\n",
       "      <td>133499.35</td>\n",
       "      <td>68853.78</td>\n",
       "      <td>139140.535</td>\n",
       "      <td>...</td>\n",
       "      <td>123591.06</td>\n",
       "      <td>114841.22</td>\n",
       "      <td>86009.12</td>\n",
       "      <td>127253.31</td>\n",
       "      <td>118676.85</td>\n",
       "      <td>110111.58</td>\n",
       "      <td>87249.7</td>\n",
       "      <td>110565.42</td>\n",
       "      <td>132031.605</td>\n",
       "      <td>77643.51</td>\n",
       "    </tr>\n",
       "    <tr>\n",
       "      <th>original</th>\n",
       "      <td>104862.43</td>\n",
       "      <td>121778.185</td>\n",
       "      <td>130100.935</td>\n",
       "      <td>78064.14</td>\n",
       "      <td>139929.305</td>\n",
       "      <td>81021.98</td>\n",
       "      <td>128654.82</td>\n",
       "      <td>133499.35</td>\n",
       "      <td>68853.78</td>\n",
       "      <td>139140.535</td>\n",
       "      <td>...</td>\n",
       "      <td>123591.06</td>\n",
       "      <td>114841.22</td>\n",
       "      <td>86009.12</td>\n",
       "      <td>127253.31</td>\n",
       "      <td>118676.85</td>\n",
       "      <td>110111.58</td>\n",
       "      <td>87249.7</td>\n",
       "      <td>110565.42</td>\n",
       "      <td>132031.605</td>\n",
       "      <td>77643.51</td>\n",
       "    </tr>\n",
       "  </tbody>\n",
       "</table>\n",
       "<p>2 rows × 80 columns</p>\n",
       "</div>"
      ],
      "text/plain": [
       "                  0           1           2         3           4         5   \\\n",
       "predicted  104862.43  121778.185  130100.935  78064.14  139929.305  81021.98   \n",
       "original   104862.43  121778.185  130100.935  78064.14  139929.305  81021.98   \n",
       "\n",
       "                  6          7         8           9   ...         70  \\\n",
       "predicted  128654.82  133499.35  68853.78  139140.535  ...  123591.06   \n",
       "original   128654.82  133499.35  68853.78  139140.535  ...  123591.06   \n",
       "\n",
       "                  71        72         73         74         75       76  \\\n",
       "predicted  114841.22  86009.12  127253.31  118676.85  110111.58  87249.7   \n",
       "original   114841.22  86009.12  127253.31  118676.85  110111.58  87249.7   \n",
       "\n",
       "                  77          78        79  \n",
       "predicted  110565.42  132031.605  77643.51  \n",
       "original   110565.42  132031.605  77643.51  \n",
       "\n",
       "[2 rows x 80 columns]"
      ]
     },
     "execution_count": 81,
     "metadata": {},
     "output_type": "execute_result"
    }
   ],
   "source": [
    "conclusion"
   ]
  },
  {
   "cell_type": "code",
   "execution_count": null,
   "id": "1ccb9141",
   "metadata": {},
   "outputs": [],
   "source": []
  }
 ],
 "metadata": {
  "kernelspec": {
   "display_name": "Python 3 (ipykernel)",
   "language": "python",
   "name": "python3"
  },
  "language_info": {
   "codemirror_mode": {
    "name": "ipython",
    "version": 3
   },
   "file_extension": ".py",
   "mimetype": "text/x-python",
   "name": "python",
   "nbconvert_exporter": "python",
   "pygments_lexer": "ipython3",
   "version": "3.9.12"
  }
 },
 "nbformat": 4,
 "nbformat_minor": 5
}
